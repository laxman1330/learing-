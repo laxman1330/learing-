{
 "cells": [
  {
   "cell_type": "code",
   "execution_count": 62,
   "metadata": {},
   "outputs": [
    {
     "name": "stdout",
     "output_type": "stream",
     "text": [
      "[[-1.3558046131253945, -1.870141835847253, -2.347896017303051, -2.091500602826468], [-1.8132699288320484, -1.592113395990271, -1.2258651599783348, -1.2858174859265359]]\n"
     ]
    }
   ],
   "source": [
    "import random\n",
    "import sys\n",
    "  \n",
    "class Centroid:\n",
    "    def __init__(self, location):\n",
    "        self.location = location\n",
    "        self.closest_users = set()\n",
    "\n",
    "\n",
    "def get_k_means(user_feature_map, num_features_per_user, k):\n",
    "    # Don't change the following two lines of code.\n",
    "    random.seed(42)\n",
    "    # Gets the inital users, to be used as centroids.\n",
    "    inital_centroid_users = random.sample(sorted(list(user_feature_map.keys())), k)\n",
    "\n",
    "    # Write your code here.\n",
    "    def manhattan_distance(a, b):\n",
    "        return sum(abs(e1-e2) for e1, e2 in zip(a,b))\n",
    "    \n",
    "    #initalize\n",
    "    centroids = []\n",
    "    for i in inital_centroid_users:\n",
    "        centroids.append(user_feature_map[i])\n",
    "        \n",
    "    itr =1\n",
    "    points_in_old_clusters =[]\n",
    "    \n",
    "    while True:\n",
    "        #Assignment \n",
    "        points_in_clusters = [[] for _ in range(k)]\n",
    "        for Xi in  list(user_feature_map.values()):\n",
    "            min_dist = sys.maxsize\n",
    "            for index ,Ci in enumerate(centroids):\n",
    "                dist = manhattan_distance(Xi,Ci)\n",
    "                if dist < min_dist:\n",
    "                    min_dist = dist\n",
    "                    cluster_index = index\n",
    "            points_in_clusters[cluster_index].append(Xi)\n",
    "         \n",
    "        #update\n",
    "        for index  in range(k):\n",
    "            sum_pts = [0 for _ in range(num_features_per_user)]\n",
    "            for Xi in points_in_clusters[index]:\n",
    "                for d in range(num_features_per_user):\n",
    "                    sum_pts[d]+=Xi[d]\n",
    "           \n",
    "            for d in  range(num_features_per_user):\n",
    "                sum_pts[d]/= len(points_in_clusters[index])\n",
    "            \n",
    "            centroids[index] = sum_pts\n",
    "            \n",
    "                \n",
    "        #convers  atleast 10 itration as mention in qution \n",
    "        if points_in_clusters == points_in_old_clusters and itr>10:\n",
    "            return centroids\n",
    "        points_in_old_clusters = points_in_clusters\n",
    "        itr+=1\n",
    "        \n",
    "#data\n",
    "user_feature_map = {\n",
    "\"uid_0\": [-1.479359467505669, -1.895497844385029, -2.8461402601759096, -1.7109256402185178],\n",
    "\"uid_1\": [-1.8284426855307128, -1.714098142408679, -0.9893682669649455, -1.5766569391907947],\n",
    "\"uid_2\": [-1.8398933218386004, -1.7896757009107565, -1.1370177175666063, -1.0218512556903283],\n",
    "\"uid_3\": [-1.23224975874512, -1.8447858273094768, -1.8496517744301924, -2.4720755654344186],\n",
    "\"uid_4\": [-1.7714737791268318, -1.2725663446513774, -1.5512094954034525, -1.2589442628984848],\n",
    "#\n",
    "# More of the same kind of data.\n",
    "}\n",
    "\n",
    "#test\n",
    "print(get_k_means(user_feature_map,4,2))\n",
    "        \n",
    "\n",
    "    "
   ]
  },
  {
   "cell_type": "code",
   "execution_count": null,
   "metadata": {},
   "outputs": [],
   "source": []
  },
  {
   "cell_type": "code",
   "execution_count": null,
   "metadata": {},
   "outputs": [],
   "source": []
  }
 ],
 "metadata": {
  "kernelspec": {
   "display_name": "Python 3",
   "language": "python",
   "name": "python3"
  },
  "language_info": {
   "codemirror_mode": {
    "name": "ipython",
    "version": 3
   },
   "file_extension": ".py",
   "mimetype": "text/x-python",
   "name": "python",
   "nbconvert_exporter": "python",
   "pygments_lexer": "ipython3",
   "version": "3.6.5"
  }
 },
 "nbformat": 4,
 "nbformat_minor": 2
}
